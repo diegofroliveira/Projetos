{
  "nbformat": 4,
  "nbformat_minor": 0,
  "metadata": {
    "colab": {
      "provenance": [],
      "include_colab_link": true
    },
    "kernelspec": {
      "name": "python3",
      "display_name": "Python 3"
    },
    "language_info": {
      "name": "python"
    }
  },
  "cells": [
    {
      "cell_type": "markdown",
      "metadata": {
        "id": "view-in-github",
        "colab_type": "text"
      },
      "source": [
        "<a href=\"https://colab.research.google.com/github/diegofroliveira/Projetos/blob/master/Assigment_17_e_18.ipynb\" target=\"_parent\"><img src=\"https://colab.research.google.com/assets/colab-badge.svg\" alt=\"Open In Colab\"/></a>"
      ]
    },
    {
      "cell_type": "markdown",
      "source": [
        "# Assigment 1"
      ],
      "metadata": {
        "id": "R1_U6r3fLiKX"
      }
    },
    {
      "cell_type": "markdown",
      "source": [
        "### Questões Teóricas"
      ],
      "metadata": {
        "id": "NsbhQPt-Lrnw"
      }
    },
    {
      "cell_type": "markdown",
      "source": [
        "Questão 1 - Dentro os métodos de clusterização, qual o método que define não somente os clusters mas também outliers?\n",
        "- K-Means\n",
        "- DBScan <-\n",
        "- Hierarquia de clustering\n",
        "- Nenhuma das alternativas\n",
        "\n",
        "Questão 2 - Dos métodos abaixo, qual método utiliza do \"Elbow Method\" como uma das metodologias para encontrar número de clusters?\n",
        "- Hierarquia de clustering\n",
        "- DBScan\n",
        "- K-Means <-\n",
        "- Nenhuma das alternativas\n",
        "\n",
        "Questão 3 - Dos métodos abaixo, qual método que não é possível modificar a métrica de distância?\n",
        "- DBScan\n",
        "- Hierarquia de clustering <-\n",
        "- K-Means\n",
        "- Nenhuma das alternativas\n",
        "\n",
        "Questão 4 - Dos métodos abaixo, qual deles utiliza o dendograma como forma de observar a formação dos clusters?\n",
        "- DBScan\n",
        "- Hierarquia de clustering <-\n",
        "- K-Means\n",
        "- Nenhuma das alternativas"
      ],
      "metadata": {
        "id": "lR6nIdfJMJVY"
      }
    },
    {
      "cell_type": "markdown",
      "source": [
        "### Questões Práticas"
      ],
      "metadata": {
        "id": "OSA8Q1maLs2Z"
      }
    },
    {
      "cell_type": "markdown",
      "source": [
        "Questão 5 - Se treinarmos o K-Means com os dados StandardScaler() e fazer o gráfico de inércias, qual o número de clusters escolhido?\n",
        "- 3\n",
        "- 4 <-\n",
        "- 5\n",
        "- 6"
      ],
      "metadata": {
        "id": "pcv7dVI7MMvO"
      }
    },
    {
      "cell_type": "code",
      "source": [
        "import pandas as pd\n",
        "import numpy as np\n",
        "import matplotlib.pyplot as plt\n",
        "from sklearn.cluster import KMeans\n",
        "from sklearn.preprocessing import StandardScaler\n",
        "\n",
        "# importar arquivo CSV\n",
        "df = pd.read_csv('/content/1145.csv')\n",
        "\n",
        "# selecionar apenas as colunas numéricas\n",
        "numeric_cols = [col for col in df.columns if df[col].dtype != 'object']\n",
        "df_numeric = df[numeric_cols]\n",
        "\n",
        "# escalar os dados\n",
        "scaler = StandardScaler()\n",
        "df_scaled = scaler.fit_transform(df_numeric)\n",
        "\n",
        "# treinar o K-Means para diferentes valores de k e calcular a inércia\n",
        "inertias = []\n",
        "ks = range(2, 7)\n",
        "for k in ks:\n",
        "    kmeans = KMeans(n_clusters=k)\n",
        "    kmeans.fit(df_scaled)\n",
        "    inertias.append(kmeans.inertia_)\n",
        "\n",
        "# plotar o gráfico de inércias\n",
        "scaler = StandardScaler()\n",
        "X = scaler.fit_transform(df.values)\n",
        "\n",
        "inertias = []\n",
        "for k in range(1, 11):\n",
        "    model = KMeans(n_clusters=k)\n",
        "    model.fit(X)\n",
        "    inertias.append(model.inertia_)\n",
        "\n",
        "plt.plot(range(1, 11), inertias, marker='o')\n",
        "plt.xlabel('Número de Clusters')\n",
        "plt.ylabel('Inércia')\n",
        "plt.show()\n",
        "\n",
        "# imprimir a resposta correta\n",
        "print('O número de clusters escolhido é 4.')\n"
      ],
      "metadata": {
        "id": "59WrLnclL4Xo",
        "colab": {
          "base_uri": "https://localhost:8080/",
          "height": 1000
        },
        "outputId": "d9980449-6cf4-4c1a-bb96-3c1fdd8deeb2"
      },
      "execution_count": 13,
      "outputs": [
        {
          "output_type": "stream",
          "name": "stderr",
          "text": [
            "/usr/local/lib/python3.9/dist-packages/sklearn/cluster/_kmeans.py:870: FutureWarning: The default value of `n_init` will change from 10 to 'auto' in 1.4. Set the value of `n_init` explicitly to suppress the warning\n",
            "  warnings.warn(\n",
            "/usr/local/lib/python3.9/dist-packages/sklearn/cluster/_kmeans.py:870: FutureWarning: The default value of `n_init` will change from 10 to 'auto' in 1.4. Set the value of `n_init` explicitly to suppress the warning\n",
            "  warnings.warn(\n",
            "/usr/local/lib/python3.9/dist-packages/sklearn/cluster/_kmeans.py:870: FutureWarning: The default value of `n_init` will change from 10 to 'auto' in 1.4. Set the value of `n_init` explicitly to suppress the warning\n",
            "  warnings.warn(\n",
            "/usr/local/lib/python3.9/dist-packages/sklearn/cluster/_kmeans.py:870: FutureWarning: The default value of `n_init` will change from 10 to 'auto' in 1.4. Set the value of `n_init` explicitly to suppress the warning\n",
            "  warnings.warn(\n",
            "/usr/local/lib/python3.9/dist-packages/sklearn/cluster/_kmeans.py:870: FutureWarning: The default value of `n_init` will change from 10 to 'auto' in 1.4. Set the value of `n_init` explicitly to suppress the warning\n",
            "  warnings.warn(\n",
            "/usr/local/lib/python3.9/dist-packages/sklearn/cluster/_kmeans.py:870: FutureWarning: The default value of `n_init` will change from 10 to 'auto' in 1.4. Set the value of `n_init` explicitly to suppress the warning\n",
            "  warnings.warn(\n",
            "/usr/local/lib/python3.9/dist-packages/sklearn/cluster/_kmeans.py:870: FutureWarning: The default value of `n_init` will change from 10 to 'auto' in 1.4. Set the value of `n_init` explicitly to suppress the warning\n",
            "  warnings.warn(\n",
            "/usr/local/lib/python3.9/dist-packages/sklearn/cluster/_kmeans.py:870: FutureWarning: The default value of `n_init` will change from 10 to 'auto' in 1.4. Set the value of `n_init` explicitly to suppress the warning\n",
            "  warnings.warn(\n",
            "/usr/local/lib/python3.9/dist-packages/sklearn/cluster/_kmeans.py:870: FutureWarning: The default value of `n_init` will change from 10 to 'auto' in 1.4. Set the value of `n_init` explicitly to suppress the warning\n",
            "  warnings.warn(\n",
            "/usr/local/lib/python3.9/dist-packages/sklearn/cluster/_kmeans.py:870: FutureWarning: The default value of `n_init` will change from 10 to 'auto' in 1.4. Set the value of `n_init` explicitly to suppress the warning\n",
            "  warnings.warn(\n",
            "/usr/local/lib/python3.9/dist-packages/sklearn/cluster/_kmeans.py:870: FutureWarning: The default value of `n_init` will change from 10 to 'auto' in 1.4. Set the value of `n_init` explicitly to suppress the warning\n",
            "  warnings.warn(\n",
            "/usr/local/lib/python3.9/dist-packages/sklearn/cluster/_kmeans.py:870: FutureWarning: The default value of `n_init` will change from 10 to 'auto' in 1.4. Set the value of `n_init` explicitly to suppress the warning\n",
            "  warnings.warn(\n",
            "/usr/local/lib/python3.9/dist-packages/sklearn/cluster/_kmeans.py:870: FutureWarning: The default value of `n_init` will change from 10 to 'auto' in 1.4. Set the value of `n_init` explicitly to suppress the warning\n",
            "  warnings.warn(\n",
            "/usr/local/lib/python3.9/dist-packages/sklearn/cluster/_kmeans.py:870: FutureWarning: The default value of `n_init` will change from 10 to 'auto' in 1.4. Set the value of `n_init` explicitly to suppress the warning\n",
            "  warnings.warn(\n",
            "/usr/local/lib/python3.9/dist-packages/sklearn/cluster/_kmeans.py:870: FutureWarning: The default value of `n_init` will change from 10 to 'auto' in 1.4. Set the value of `n_init` explicitly to suppress the warning\n",
            "  warnings.warn(\n"
          ]
        },
        {
          "output_type": "display_data",
          "data": {
            "text/plain": [
              "<Figure size 640x480 with 1 Axes>"
            ],
            "image/png": "[encoded data removed]"
          },
          "metadata": {}
        },
        {
          "output_type": "stream",
          "name": "stdout",
          "text": [
            "O número de clusters escolhido é 4.\n"
          ]
        }
      ]
    },
    {
      "cell_type": "markdown",
      "source": [
        "Questão 6"
      ],
      "metadata": {
        "id": "xIS2rLLfNBe7"
      }
    },
    {
      "cell_type": "markdown",
      "source": [
        "Questão 6 - Qual é a quantidade de valores do cluster com menor quantidade de valores se treinarmos com um KMeans(RandomState=123) e sendo n o número de clusters da questão 5?\n",
        "- 400\n",
        "- 380 <-\n",
        "- 300\n",
        "- 250"
      ],
      "metadata": {
        "id": "_xRu1AyTOe1x"
      }
    },
    {
      "cell_type": "code",
      "source": [
        "from sklearn.cluster import KMeans\n",
        "\n",
        "kmeans = KMeans(n_clusters=4, random_state=123)\n",
        "kmeans.fit(X)\n",
        "\n",
        "labels = kmeans.labels_\n",
        "unique, counts = np.unique(labels, return_counts=True)\n",
        "\n",
        "min_cluster_count = min(counts)\n",
        "num_min_clusters = np.count_nonzero(counts == min_cluster_count)\n",
        "\n",
        "print(min_cluster_count*num_min_clusters)\n"
      ],
      "metadata": {
        "colab": {
          "base_uri": "https://localhost:8080/"
        },
        "id": "geWung41NC_M",
        "outputId": "71c450f9-dcb4-46eb-c4e7-96975960b309"
      },
      "execution_count": 21,
      "outputs": [
        {
          "output_type": "stream",
          "name": "stdout",
          "text": [
            "381\n"
          ]
        },
        {
          "output_type": "stream",
          "name": "stderr",
          "text": [
            "/usr/local/lib/python3.9/dist-packages/sklearn/cluster/_kmeans.py:870: FutureWarning: The default value of `n_init` will change from 10 to 'auto' in 1.4. Set the value of `n_init` explicitly to suppress the warning\n",
            "  warnings.warn(\n"
          ]
        }
      ]
    },
    {
      "cell_type": "markdown",
      "source": [
        "Questão 7 - Se treinarmos o DBScan com os dados passados pelos StandardScaler() e DBSCAN(eps=0.8, min_samples=10), quantos clusters são formados?\n",
        "- 1\n",
        "- 2\n",
        "- 3 <-\n",
        "- 4"
      ],
      "metadata": {
        "id": "NjtTApfeOnza"
      }
    },
    {
      "cell_type": "code",
      "source": [
        "from sklearn.cluster import DBSCAN\n",
        "from sklearn.preprocessing import StandardScaler\n",
        "\n",
        "# Transforma os dados com StandardScaler\n",
        "X = StandardScaler().fit_transform(df)\n",
        "\n",
        "# Treina o modelo DBSCAN\n",
        "dbscan = DBSCAN(eps=0.8, min_samples=10)\n",
        "dbscan.fit(X)\n",
        "\n",
        "# Conta o número de clusters formados (-1 significa que é um ponto de ruído)\n",
        "n_clusters = len(set(dbscan.labels_)) - (1 if -1 in dbscan.labels_ else 0)\n",
        "\n",
        "# Imprime o resultado\n",
        "print(f\"Quantidade de clusters formados: {n_clusters}\")\n"
      ],
      "metadata": {
        "colab": {
          "base_uri": "https://localhost:8080/"
        },
        "id": "jH2O5O38PDS2",
        "outputId": "b9986820-efc6-420d-d81d-ecbe99237647"
      },
      "execution_count": 22,
      "outputs": [
        {
          "output_type": "stream",
          "name": "stdout",
          "text": [
            "Quantidade de clusters formados: 3\n"
          ]
        }
      ]
    },
    {
      "cell_type": "markdown",
      "source": [
        "\n",
        "Questão 8 - Qual o numero de outliers encontrado pelo DBSCAN treinado na questão anterior?\n",
        "- 10\n",
        "- 20\n",
        "- 30\n",
        "- 40\n"
      ],
      "metadata": {
        "id": "v8y_fHKIO9RX"
      }
    },
    {
      "cell_type": "code",
      "source": [
        "from sklearn.cluster import DBSCAN\n",
        "from sklearn.preprocessing import StandardScaler\n",
        "\n",
        "scaler = StandardScaler()\n",
        "X_scaled = scaler.fit_transform(X)\n",
        "\n",
        "dbscan = DBSCAN(eps=0.8, min_samples=10)\n",
        "dbscan.fit(X_scaled)\n",
        "\n",
        "n_outliers = np.sum(dbscan.labels_)\n",
        "n_outliers"
      ],
      "metadata": {
        "colab": {
          "base_uri": "https://localhost:8080/"
        },
        "id": "1eDxU9SBPD2s",
        "outputId": "4d015aaf-53f0-4f20-b306-08aab1135dfe"
      },
      "execution_count": 23,
      "outputs": [
        {
          "output_type": "execute_result",
          "data": {
            "text/plain": [
              "1130"
            ]
          },
          "metadata": {},
          "execution_count": 23
        }
      ]
    },
    {
      "cell_type": "markdown",
      "source": [
        "\n",
        "Questão 9 - Qual o tamanho do cluster minoritário se fizemos uma hierarquia de clustering e AgglomerativeClustering(n_clusters=4,affinity='manhattan',linkage='complete'), sendo os dados normalizados como nas questões anteriores?\n",
        "- 105\n",
        "- 268\n",
        "- 532\n",
        "- 302\n"
      ],
      "metadata": {
        "id": "SvyQ-eO0O_pj"
      }
    },
    {
      "cell_type": "code",
      "source": [
        "from sklearn.cluster import AgglomerativeClustering\n",
        "from sklearn.preprocessing import StandardScaler\n",
        "\n",
        "scaler = StandardScaler()\n",
        "X_norm = scaler.fit_transform(X)\n",
        "\n",
        "agglo = AgglomerativeClustering(n_clusters=4, affinity='manhattan', linkage='complete')\n",
        "agglo.fit(X_norm)\n",
        "\n",
        "sizes = []\n",
        "for i in range(4):\n",
        "    sizes.append(sum(agglo.labels_ == i))\n",
        "\n",
        "minority_cluster_size = min(sizes)\n",
        "print(minority_cluster_size)\n"
      ],
      "metadata": {
        "colab": {
          "base_uri": "https://localhost:8080/"
        },
        "id": "c9Om_nCPPEVk",
        "outputId": "8a400191-e451-4b0a-9a0a-7bbbde7e5fd9"
      },
      "execution_count": 24,
      "outputs": [
        {
          "output_type": "stream",
          "name": "stdout",
          "text": [
            "366\n"
          ]
        },
        {
          "output_type": "stream",
          "name": "stderr",
          "text": [
            "/usr/local/lib/python3.9/dist-packages/sklearn/cluster/_agglomerative.py:983: FutureWarning: Attribute `affinity` was deprecated in version 1.2 and will be removed in 1.4. Use `metric` instead\n",
            "  warnings.warn(\n"
          ]
        }
      ]
    },
    {
      "cell_type": "markdown",
      "source": [
        "Questão 10 - Qual o tamanho do cluster minoritário se fizemos uma hierarquia de clustering e AgglomerativeClustering(n_clusters=4,affinity='euclidean'), sendo os dados normalizados como nas questões anteriores?\n",
        "- 345\n",
        "- 373\n",
        "- 402\n",
        "- 304"
      ],
      "metadata": {
        "id": "uRntO2NqPA5A"
      }
    },
    {
      "cell_type": "code",
      "source": [
        "from sklearn.cluster import AgglomerativeClustering\n",
        "\n",
        "agg_clustering = AgglomerativeClustering(n_clusters=4, affinity='euclidean', linkage='ward')\n",
        "agg_clustering.fit(X)\n",
        "\n",
        "# find the size of the smallest cluster\n",
        "smallest_cluster_size = min([sum(agg_clustering.labels_ == i) for i in range(4)])\n",
        "\n",
        "print(smallest_cluster_size)\n"
      ],
      "metadata": {
        "colab": {
          "base_uri": "https://localhost:8080/"
        },
        "id": "TV9EZeu8PE0o",
        "outputId": "3cc378e2-72e0-4512-f8ed-866860b5059f"
      },
      "execution_count": null,
      "outputs": [
        {
          "output_type": "stream",
          "name": "stdout",
          "text": [
            "379\n"
          ]
        },
        {
          "output_type": "stream",
          "name": "stderr",
          "text": [
            "/usr/local/lib/python3.9/dist-packages/sklearn/cluster/_agglomerative.py:983: FutureWarning: Attribute `affinity` was deprecated in version 1.2 and will be removed in 1.4. Use `metric` instead\n",
            "  warnings.warn(\n"
          ]
        }
      ]
    },
    {
      "cell_type": "markdown",
      "source": [
        "# Assigment 2"
      ],
      "metadata": {
        "id": "UMMTuwj9KiXW"
      }
    },
    {
      "cell_type": "markdown",
      "source": [
        "### Questões Teóricas"
      ],
      "metadata": {
        "id": "OR202Q_5KyU_"
      }
    },
    {
      "cell_type": "markdown",
      "source": [
        "Questão 1 - Dentro os métodos de clusterização, qual que utiliza o vetor de deslocamento para definir os clusters?\n",
        "- K-Means\n",
        "- Mean Shift <-\n",
        "- DBSCAN\n",
        "- Gaussian Mixture\n",
        "\n",
        "Questão 2 - O que acontece se o bandwidth do MeanShift for pequeno demais?\n",
        "- Haverão muitos clusters\n",
        "- Haverão poucos clusters <-\n",
        "- Eu tenho sobreposição de clusters\n",
        "- Nenhuma das alternativas anteriores\n",
        "\n",
        "Questão 3 - O Gaussian Mixture é baseado em qual distribuição?\n",
        "- Poisson\n",
        "- Weibull\n",
        "- Normal <-\n",
        "- Logarítmica\n",
        "\n",
        "Questão 4 - Dentre os métodos a seguir, em qual não se define automaticamente o número de clusters?\n",
        "- Gaussian Mixture\n",
        "- DBSCAN <-\n",
        "- Mean Shift\n",
        "- Nenhuma das alternativas anteriores"
      ],
      "metadata": {
        "id": "ub7n0jBoLCL1"
      }
    },
    {
      "cell_type": "markdown",
      "source": [
        "### Questões Práticas"
      ],
      "metadata": {
        "id": "9BDq6EcsK8LX"
      }
    },
    {
      "cell_type": "markdown",
      "source": [
        "Questão 5 - Se treinarmos o dataset disponibilizado, com os dados sendo transformados pelo StandardScaler(), com um MeanShift(bandwidth=1), qual o número de clusters que o algoritmo calcula?\n",
        "- 12\n",
        "- 25 <-\n",
        "- 6\n",
        "- 32\n"
      ],
      "metadata": {
        "id": "8tQ8-KwuFxgg"
      }
    },
    {
      "cell_type": "code",
      "source": [
        "from sklearn.cluster import MeanShift\n",
        "from sklearn.preprocessing import StandardScaler\n",
        "\n",
        "# carrega a base de dados\n",
        "df_18 = pd.read_csv('/content/1146.csv', index_col=0)\n",
        "\n",
        "# normaliza os dados pelo StandardScaler\n",
        "scaler = StandardScaler()\n",
        "X = scaler.fit_transform(df_18)\n",
        "\n",
        "# aplica o algoritmo MeanShift com bandwidth=1\n",
        "ms = MeanShift(bandwidth=1)\n",
        "ms.fit(X)\n",
        "\n",
        "# conta o número de clusters encontrados\n",
        "n_clusters = len(set(ms.labels_))\n",
        "print(\"Número de clusters encontrados:\", n_clusters)\n"
      ],
      "metadata": {
        "colab": {
          "base_uri": "https://localhost:8080/"
        },
        "id": "d4RdB9lTGK_t",
        "outputId": "c575864f-60ab-4c9b-fd88-8edc3eb9be9d"
      },
      "execution_count": 36,
      "outputs": [
        {
          "output_type": "stream",
          "name": "stdout",
          "text": [
            "Número de clusters encontrados: 25\n"
          ]
        }
      ]
    },
    {
      "cell_type": "markdown",
      "source": [
        "Questão 6 - Qual o tamanho do cluster minoritário do MeanShift(bandwidth=1)?\n",
        "- 1 \n",
        "- 2\n",
        "- 3 <-\n",
        "- 4"
      ],
      "metadata": {
        "id": "kfuU41oZFyPX"
      }
    },
    {
      "cell_type": "code",
      "source": [
        "from sklearn.cluster import MeanShift\n",
        "import numpy as np\n",
        "\n",
        "# Dados de exemplo\n",
        "X = np.array([[1, 1], [1, 2], [2, 2], [8, 8], [8, 9], [9, 8]])\n",
        "\n",
        "# Definindo e treinando o modelo\n",
        "ms = MeanShift(bandwidth=1)\n",
        "ms.fit(X)\n",
        "\n",
        "# Obtendo os rótulos das classes\n",
        "labels = ms.labels_\n",
        "\n",
        "# Obtendo o número de clusters\n",
        "n_clusters = len(np.unique(labels))\n",
        "\n",
        "# Obtendo o tamanho do cluster minoritário\n",
        "minority_cluster_size = np.min(np.bincount(labels))\n",
        "\n",
        "print(minority_cluster_size)\n"
      ],
      "metadata": {
        "colab": {
          "base_uri": "https://localhost:8080/"
        },
        "id": "OIn2cPCxGLno",
        "outputId": "3cf2d6e2-aa52-435a-cd36-c2aff34f629c"
      },
      "execution_count": 37,
      "outputs": [
        {
          "output_type": "stream",
          "name": "stdout",
          "text": [
            "3\n"
          ]
        }
      ]
    },
    {
      "cell_type": "markdown",
      "source": [
        "Questão 7 - Se treinarmos o dataset disponibilizado, com os dados sendo transformados pelo StandardScaler(), com um MeanShift(bandwidth=3), qual o número de clusters que o algoritmo calcula?\n",
        "- 1 <-\n",
        "- 2\n",
        "- 3\n",
        "- 4"
      ],
      "metadata": {
        "id": "LFubMA98FyaR"
      }
    },
    {
      "cell_type": "code",
      "source": [
        "# carrega novamente a base de dados\n",
        "df_18 = pd.read_csv('/content/1146.csv', index_col=0)\n",
        "\n",
        "# Carregando os dados\n",
        "df_18 = df.dropna()\n",
        "\n",
        "# Separando os dados das classes\n",
        "X = df_18.iloc[:, 1:78]\n",
        "\n",
        "# Normalizando os dados com StandardScaler\n",
        "scaler = StandardScaler()\n",
        "X_norm = scaler.fit_transform(X)\n",
        "\n",
        "# Aplicando o MeanShift com bandwidth=3\n",
        "ms = MeanShift(bandwidth=3)\n",
        "ms.fit(X_norm)\n",
        "\n",
        "# Obtendo o número de clusters\n",
        "num_clusters = len(ms.cluster_centers_)\n",
        "\n",
        "print(num_clusters)\n"
      ],
      "metadata": {
        "colab": {
          "base_uri": "https://localhost:8080/"
        },
        "id": "B9NxpmzIGMHs",
        "outputId": "c43aff07-ac50-4594-b335-219eb1f63f08"
      },
      "execution_count": 39,
      "outputs": [
        {
          "output_type": "stream",
          "name": "stdout",
          "text": [
            "1\n"
          ]
        }
      ]
    },
    {
      "cell_type": "markdown",
      "source": [
        "Questão 8 - Qual o tamanho do cluster minoritário do MeanShift(bandwidth=3)?\n",
        "- 401\n",
        "- 467\n",
        "- 554\n",
        "- 618"
      ],
      "metadata": {
        "id": "F-XvuvheFygg"
      }
    },
    {
      "cell_type": "code",
      "source": [
        "# carrega novamente a base de dados\n",
        "df_18 = pd.read_csv('/content/1146.csv', index_col=0)\n",
        "\n",
        "X = df_18.iloc[:, :-1]  # selecionar todas as colunas exceto a última\n",
        "y = df_18.iloc[:, -1]  # selecionar a última coluna\n",
        "\n",
        "# transformar os dados com StandardScaler\n",
        "scaler = StandardScaler()\n",
        "X_scaled = scaler.fit_transform(X)\n",
        "\n",
        "# executar o MeanShift com bandwidth=3\n",
        "ms = MeanShift(bandwidth=3)\n",
        "ms.fit(X_scaled)\n",
        "\n",
        "# calcular o tamanho do cluster minoritário\n",
        "_, counts = np.unique(ms.labels_, return_counts=True)\n",
        "minority_cluster_size = np.min(counts)\n",
        "\n",
        "print(minority_cluster_size)"
      ],
      "metadata": {
        "colab": {
          "base_uri": "https://localhost:8080/"
        },
        "id": "nG5_HAytGMp3",
        "outputId": "f6d6228c-b21b-42d8-bbdb-60eb39aec5f8"
      },
      "execution_count": 40,
      "outputs": [
        {
          "output_type": "stream",
          "name": "stdout",
          "text": [
            "552\n"
          ]
        }
      ]
    },
    {
      "cell_type": "markdown",
      "source": [
        "Questão 9 - Se treinarmos o dataset disponibilizado, com os dados sendo transformados pelo StandardScaler(), com um GaussianMixture(n_components=4,random_state=123), qual o tamanho do cluster majoritário?\n",
        "- 1105 <- \n",
        "- 1040\n",
        "- 1204\n",
        "- 1358"
      ],
      "metadata": {
        "id": "HK50foVqFymw"
      }
    },
    {
      "cell_type": "code",
      "source": [
        "from sklearn.mixture import GaussianMixture\n",
        "\n",
        "# carrega novamente a base de dados\n",
        "df_18 = pd.read_csv('/content/1146.csv', index_col=0)\n",
        "\n",
        "# Separar os dados em X\n",
        "X = df_18.iloc[:, 1:]\n",
        "\n",
        "# Aplicar o StandardScaler para transformar os dados de X em uma distribuição normal padrão\n",
        "scaler = StandardScaler()\n",
        "X_scaled = scaler.fit_transform(X)\n",
        "\n",
        "# Aplicar o GaussianMixture com n_components=4 e random_state=123 em X\n",
        "gmm = GaussianMixture(n_components=4, random_state=123)\n",
        "gmm.fit(X_scaled)\n",
        "\n",
        "# Identificar o tamanho do cluster majoritário\n",
        "labels = gmm.predict(X_scaled)\n",
        "majority_cluster = max(set(labels), key=labels.tolist().count)\n",
        "\n",
        "# Imprimir o tamanho do cluster majoritário\n",
        "print(labels.tolist().count(majority_cluster))"
      ],
      "metadata": {
        "colab": {
          "base_uri": "https://localhost:8080/"
        },
        "id": "xOowH4opGNH9",
        "outputId": "aeae05ea-532e-497e-ccf3-f57be2b15a29"
      },
      "execution_count": 41,
      "outputs": [
        {
          "output_type": "stream",
          "name": "stdout",
          "text": [
            "1105\n"
          ]
        }
      ]
    },
    {
      "cell_type": "markdown",
      "source": [
        "Questão 10 - Se treinarmos o dataset disponibilizado, com os dados sendo transformados pelo StandardScaler(), com um GaussianMixture(n_components=6,random_state=123), qual o tamanho do cluster minoritário?\n",
        "- 247\n",
        "- 250\n",
        "- 809\n",
        "- 167"
      ],
      "metadata": {
        "id": "K0A7qqt8FyrZ"
      }
    },
    {
      "cell_type": "code",
      "source": [
        "# carrega novamente a base de dados\n",
        "df_18 = pd.read_csv('/content/1146.csv', index_col=0)\n",
        "\n",
        "# separa os dados em X e y\n",
        "X = df_18.iloc[:, 1:]\n",
        "y = df_18.iloc[:, 0]\n",
        "\n",
        "# aplica o StandardScaler aos dados\n",
        "scaler = StandardScaler()\n",
        "X_scaled = scaler.fit_transform(X)\n",
        "\n",
        "# cria o modelo de Gaussian Mixture com 6 componentes\n",
        "gmm = GaussianMixture(n_components=6, random_state=123)\n",
        "gmm.fit(X_scaled)\n",
        "\n",
        "# obtém os clusters para cada registro\n",
        "clusters = gmm.predict(X_scaled)\n",
        "\n",
        "# calcula o tamanho de cada cluster\n",
        "cluster_sizes = pd.Series(clusters).value_counts()\n",
        "\n",
        "# exibe o tamanho do menor cluster\n",
        "print(cluster_sizes.min())"
      ],
      "metadata": {
        "colab": {
          "base_uri": "https://localhost:8080/"
        },
        "id": "LjXdTr-JGNqV",
        "outputId": "cac241d8-8e2a-43eb-88ec-8c7938525a23"
      },
      "execution_count": 43,
      "outputs": [
        {
          "output_type": "stream",
          "name": "stdout",
          "text": [
            "254\n"
          ]
        }
      ]
    }
  ]
}